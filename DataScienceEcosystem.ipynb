{
 "cells": [
  {
   "cell_type": "code",
   "execution_count": null,
   "id": "6665737d-892f-4e21-890a-569c4ff13cc0",
   "metadata": {},
   "outputs": [],
   "source": [
    "Exercise 2: Create markdown cell with title of the notebook\n",
    "\n",
    "# Data Science Tools and Ecosystem\n"
   ]
  },
  {
   "cell_type": "code",
   "execution_count": null,
   "id": "2e056b00-a436-4ae7-b958-0a968b6f6562",
   "metadata": {},
   "outputs": [],
   "source": [
    "Exercise 3 - Create a markdown cell for an introduction"
   ]
  },
  {
   "cell_type": "markdown",
   "id": "307ea666-30b4-43ca-bddd-77aa5652cb7a",
   "metadata": {},
   "source": [
    "In this notebook, Data Science Tools and Ecosystem are summarized"
   ]
  },
  {
   "cell_type": "code",
   "execution_count": null,
   "id": "375db3cb-1c86-4879-9273-ea795794cc7b",
   "metadata": {},
   "outputs": [],
   "source": [
    "Exercise 10 - Insert a markdown cell to list Objectives\n"
   ]
  },
  {
   "cell_type": "markdown",
   "id": "c36254fa-d14a-495c-a23b-e88e48673c9f",
   "metadata": {},
   "source": [
    "**Objectives:**\n",
    "- List popular languages for Data Science\n",
    "- list development environment open source tools used in data science\n",
    "- list commonly used libraries used by Data Scientists\n",
    "- Understand how to perform basic arithmetic operations in Python\n",
    "\n"
   ]
  },
  {
   "cell_type": "code",
   "execution_count": null,
   "id": "e04bce44-6935-4616-bb81-99c7ee55816f",
   "metadata": {},
   "outputs": [],
   "source": [
    "Exercise 4 - Create a markdown cell to list data science languages\n"
   ]
  },
  {
   "cell_type": "markdown",
   "id": "4486fdab-3862-41f0-9cc2-e7a5df97f7a1",
   "metadata": {},
   "source": [
    "Some of the popular languages that Data Scientists use are:\n",
    "1. Python\n",
    "2. SQL\n",
    "3. JavaScript\n",
    "4. Scala"
   ]
  },
  {
   "cell_type": "code",
   "execution_count": null,
   "id": "9c07934c-5c90-4971-b90e-0331ecc45dfb",
   "metadata": {},
   "outputs": [],
   "source": [
    "Exercise 5 - Create a markdown cell to list data science libraries\n"
   ]
  },
  {
   "cell_type": "markdown",
   "id": "3c4f8cb2-b87f-41e7-9e09-590c1a494bc3",
   "metadata": {},
   "source": [
    "Some of the commonly used libraries used by Data Scientists include:\n",
    "1. Pandas\n",
    "2. SciPy\n",
    "3. Plotly\n",
    "4. Apache Spark\n",
    "5. TensorFlow"
   ]
  },
  {
   "cell_type": "code",
   "execution_count": null,
   "id": "e471e135-8722-4845-8f47-5fde9038166e",
   "metadata": {},
   "outputs": [],
   "source": [
    "Exercise 6 - Create a markdown cell with a table of Data Science tools\n"
   ]
  },
  {
   "cell_type": "code",
   "execution_count": null,
   "id": "17138480-b006-45bc-a2d8-c678f898d99c",
   "metadata": {},
   "outputs": [],
   "source": [
    "| Data Science Tools|\n",
    "|-------------------|\n",
    "| Jupyter Notebook  |\n",
    "| JupyterLab        |\n",
    "| RStudio           |\n",
    " \n"
   ]
  },
  {
   "cell_type": "code",
   "execution_count": null,
   "id": "daa4b4f4-d643-4af5-abdd-988184fa8ce8",
   "metadata": {},
   "outputs": [],
   "source": [
    "Exercise 7 - Create a markdown cell introducing arithmetic expression examples\n"
   ]
  },
  {
   "cell_type": "code",
   "execution_count": null,
   "id": "37f8f43d-98b6-4e42-a785-cb6222797ebe",
   "metadata": {},
   "outputs": [],
   "source": [
    "### Below are a few examples of evaluating arithmetic expressions in Python\n"
   ]
  },
  {
   "cell_type": "code",
   "execution_count": null,
   "id": "2a14979d-3ae7-48e9-847d-dbac67886dfd",
   "metadata": {},
   "outputs": [],
   "source": [
    "Exercise 8 - Create a code cell to multiply and add numbers\n"
   ]
  },
  {
   "cell_type": "code",
   "execution_count": 9,
   "id": "ea61ed5b-5a2d-4a2c-9bf9-7054999db350",
   "metadata": {},
   "outputs": [
    {
     "data": {
      "text/plain": [
       "17"
      ]
     },
     "execution_count": 9,
     "metadata": {},
     "output_type": "execute_result"
    }
   ],
   "source": [
    " # This a simple arithmetic expression to mutiply then add integers\n",
    " (3*4)+5"
   ]
  },
  {
   "cell_type": "code",
   "execution_count": null,
   "id": "12d56db4-f396-4ad2-b701-108ddace13b8",
   "metadata": {},
   "outputs": [],
   "source": [
    "Exercise 9 - Create a code cell to convert minutes to hours\n"
   ]
  },
  {
   "cell_type": "code",
   "execution_count": 11,
   "id": "640cb0b9-a806-4b5b-9192-737006f57e80",
   "metadata": {},
   "outputs": [
    {
     "data": {
      "text/plain": [
       "3.3333333333333335"
      ]
     },
     "execution_count": 11,
     "metadata": {},
     "output_type": "execute_result"
    }
   ],
   "source": [
    "# This will convert 200 minutes to hours by diving by 60.\n",
    "(200/60)"
   ]
  },
  {
   "cell_type": "code",
   "execution_count": null,
   "id": "2d045604-b7bd-42a2-9b9d-65c4381db5f4",
   "metadata": {},
   "outputs": [],
   "source": [
    "## Author\n",
    "Ernest"
   ]
  },
  {
   "cell_type": "code",
   "execution_count": null,
   "id": "dedd5606-cd08-4841-8ff9-50cbbdc404a0",
   "metadata": {},
   "outputs": [],
   "source": []
  }
 ],
 "metadata": {
  "kernelspec": {
   "display_name": "Python 3 (ipykernel)",
   "language": "python",
   "name": "python3"
  },
  "language_info": {
   "codemirror_mode": {
    "name": "ipython",
    "version": 3
   },
   "file_extension": ".py",
   "mimetype": "text/x-python",
   "name": "python",
   "nbconvert_exporter": "python",
   "pygments_lexer": "ipython3",
   "version": "3.12.8"
  }
 },
 "nbformat": 4,
 "nbformat_minor": 5
}
